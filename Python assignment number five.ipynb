{
 "cells": [
  {
   "cell_type": "markdown",
   "id": "55c7f7ac",
   "metadata": {},
   "source": [
    "An empty dictionary's code looks like this:\n",
    "python\n",
    "Copy code\n",
    "my_dict = {}"
   ]
  },
  {
   "cell_type": "markdown",
   "id": "64057664",
   "metadata": {},
   "source": [
    "The value of a dictionary value with the key 'foo' and the value 42 would be:\n",
    "python\n",
    "Copy code\n",
    "my_dict = {'foo': 42}"
   ]
  },
  {
   "cell_type": "markdown",
   "id": "e39b4a63",
   "metadata": {},
   "source": [
    "The most significant distinction between a dictionary and a list is their structure and the way they store and access data:\n",
    "Dictionary: A dictionary is an unordered collection of key-value pairs. Each key is unique within the dictionary, and it is used to access its corresponding value. Keys can be of any immutable data type, such as strings, numbers, or tuples. Dictionaries are useful for storing and retrieving data based on a specific key.\n",
    "\n",
    "List: A list is an ordered collection of elements. The elements in a list are accessed by their position or index, starting from 0. Lists can contain elements of any data type, and they are mutable, meaning their elements can be modified, added, or removed. Lists are suitable for storing and working with sequences of data."
   ]
  },
  {
   "cell_type": "markdown",
   "id": "1d00b7c4",
   "metadata": {},
   "source": [
    "f you try to access spam['foo'] when spam is {'bar': 100}, you will get a KeyError. This is because the key 'foo' does not exist in the spam dictionary. Accessing a non-existent key in a dictionary using square brackets will raise an error."
   ]
  },
  {
   "cell_type": "markdown",
   "id": "d8999841",
   "metadata": {},
   "source": [
    "If a dictionary is stored in spam, the expression 'cat' in spam checks if the key 'cat' exists in the dictionary spam. It returns True if the key is present, and False otherwise.\n",
    "\n",
    "The expression 'cat' in spam.keys() is equivalent to the previous expression. It checks if the key 'cat' exists in the list of keys of the dictionary spam. It also returns True if the key is present, and False otherwise."
   ]
  },
  {
   "cell_type": "markdown",
   "id": "b2fcf16f",
   "metadata": {},
   "source": [
    "If a dictionary is stored in spam, the expression 'cat' in spam checks if the value 'cat' exists in any of the values in the dictionary spam. It returns True if the value is present, and False otherwise.\n",
    "The expression 'cat' in spam.values() checks if the value 'cat' exists in the list of values of the dictionary spam. It returns True if the value is present, and False otherwise."
   ]
  },
  {
   "cell_type": "markdown",
   "id": "58aa7f17",
   "metadata": {},
   "source": [
    "A shortcut for the code snippet:\n",
    "python\n",
    "Copy code\n",
    "if 'color' not in spam:\n",
    "    spam['color'] = 'black'\n",
    "    \n",
    "is to use the dict.setdefault() method. This method sets a default value for a key in a dictionary if the key does not exist.\n",
    "\n",
    "The shortcut code would be:\n",
    "\n",
    "python\n",
    "Copy code\n",
    "spam.setdefault('color', 'black')\n",
    "This code checks if the key 'color' exists in the spam dictionary. If it does not exist, it sets the value 'black' for the key 'color'. If the key already exists, it does nothing."
   ]
  },
  {
   "cell_type": "markdown",
   "id": "fd4881c3",
   "metadata": {},
   "source": [
    "To \"pretty print\" dictionary values, you can use the pprint module and its pprint() function. This function displays dictionary values in a formatted and readable way, especially when the dictionary is complex or contains nested structures.\n",
    "To use the pprint() function, you need to import the pprint module first:\n",
    "\n",
    "python\n",
    "Copy code\n",
    "import pprint\n",
    "Then, you can use the pprint() function to pretty print a dictionary:\n",
    "\n",
    "python\n",
    "Copy code\n",
    "my_dict = {'key1': 'value1', 'key2': 'value2'}\n",
    "pprint.pprint(my_dict)\n",
    "This will display the dictionary my_dict with proper indentation and formatting."
   ]
  }
 ],
 "metadata": {
  "kernelspec": {
   "display_name": "Python 3",
   "language": "python",
   "name": "python3"
  },
  "language_info": {
   "codemirror_mode": {
    "name": "ipython",
    "version": 3
   },
   "file_extension": ".py",
   "mimetype": "text/x-python",
   "name": "python",
   "nbconvert_exporter": "python",
   "pygments_lexer": "ipython3",
   "version": "3.8.8"
  }
 },
 "nbformat": 4,
 "nbformat_minor": 5
}
